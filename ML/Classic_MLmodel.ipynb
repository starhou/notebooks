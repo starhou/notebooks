{
 "cells": [
  {
   "cell_type": "markdown",
   "metadata": {
    "colab_type": "text",
    "id": "view-in-github"
   },
   "source": [
    "<a href=\"https://colab.research.google.com/github/starhou/Algorithm/blob/master/Classic_MLmodel.ipynb\" target=\"_parent\"><img src=\"https://colab.research.google.com/assets/colab-badge.svg\" alt=\"Open In Colab\"/></a>"
   ]
  },
  {
   "cell_type": "markdown",
   "metadata": {
    "colab_type": "text",
    "id": "V0hzU1-5JTV9"
   },
   "source": [
    "# 损失函数\n"
   ]
  },
  {
   "cell_type": "markdown",
   "metadata": {
    "colab_type": "text",
    "id": "-WD0gScUJ8F4"
   },
   "source": [
    "### **KL散度**\n",
    "$D_{\\mathrm{KL}}(P \\| Q)=-\\sum_{i} P(i) \\ln \\frac{Q(i)}{P(i)}=\\sum_{i} P(i) \\ln \\frac{P(i)}{Q(i)}=\\sum_{i}P(i)(\\log{P(i)}-\\log{Q(i)})$\n",
    "\n",
    "其中$Q(i)>0,P(i)>0$, 其中P为原始分布，Q为近似分布，KL散度是两个分布对数差值的期望, 并非距离度量，没有对称性\n",
    "\n",
    "### **交叉熵** = 熵+KL散度 \n",
    "\n",
    "衡量的是同个变量的不同分布\n",
    "\n",
    "样本集的两个概率分布 p(x) 和 q(x)，其中 p(x) 为真实分布， q(x)非真实分布\n",
    "\n",
    "$\\mathbf{H}(p, q)=\\mathbf{E}_{p}[-\\log q]=\\mathbf{H}(p)+D_{\\mathrm{KL}}(p \\| q)=\\sum_{x} p(x) \\log \\frac{1}{q(x)}$\n",
    "\n",
    "### **条件熵：**\n",
    "\n",
    "已知随机变量 X 的条件下随机变量 Y 的不确定性\n",
    "\n",
    "$\\begin{aligned} H(Y | X) &=\\sum_{x} p(x) H(Y | X=x) \\\\ &=-\\sum_{x} p(x) \\sum_{y} p(y | x) \\log p(y | x) \\\\ &=-\\sum_{x} \\sum_{y} p(x, y) \\log p(y | x) \\\\ &=-\\sum_{x, y} p(x, y) \\log p(y | x) \\end{aligned}$\n",
    "\n",
    "### **联合熵**：\n",
    "\n",
    "衡量的是不同的变量\n",
    "\n",
    "$H(X, Y)=-\\sum_{x, y} p(x, y) \\log p(x, y)=-\\sum_{i=1}^{n} \\sum_{j=1}^{m} p\\left(x_{i}, y_{i}\\right) \\log p\\left(x_{i}, y_{i}\\right)$\n",
    "\n",
    "\n"
   ]
  },
  {
   "cell_type": "markdown",
   "metadata": {
    "colab_type": "text",
    "id": "QmShqWkBvGeB"
   },
   "source": [
    "# 支撑向量机（SVM）"
   ]
  },
  {
   "cell_type": "markdown",
   "metadata": {
    "colab_type": "text",
    "id": "c3Xi9NhpvPpZ"
   },
   "source": [
    "一般优化表示，\n",
    "\n",
    "\\begin{equation}\n",
    "\\begin{aligned}\n",
    "&\\min \\quad f_{0}(x)\\\\\n",
    "&\\text { s.t. } \\quad f_{i}(x) \\leq 0, \\quad i=1, \\cdots, m\\\\\n",
    "&\\quad \\quad \\quad h_{i}(x)=0,  i=1, \\cdots, p\n",
    "\\end{aligned}\n",
    "\\end{equation}\n",
    "\n",
    "1.   不管原命题形式如何，其对偶问题都是凸函数\n",
    "2.   不管什么问题，都可以转化为拉格朗日对偶问题求解\n",
    "3.   对偶问题是原问题最优解的下确界\n",
    "4.   slater条件：存在一点 $x \\in$relint $D$ ($D$ 的相对内点集）满足$f_{i}(x)<0, i=1, \\ldots, m, A x=b$, 这样的点称为严格可行的点\n",
    "5.   slater定理：满足slater条件且原问题是凸优化问题时，强对偶性成立\n",
    "6.   slater条件确保了鞍点的存在，KKT条件是鞍点是最优解的充分条件。当原问题是凸优化问题时，KKT条件是充要条件。\n",
    "7.   KKT条件，其中$h_{i}(x)$是等式约束，$g_{i}(x)$是不等式约束\n",
    "\n",
    "$$\n",
    "\\begin{array}{c}\n",
    "\\nabla f(x)+\\sum_{i=1}^{n} \\lambda_{i} \\nabla h_{i}(x)+\\sum_{i=1}^{n} \\mu_{i} \\nabla g_{i}(x)=0 \\\\\n",
    "\\mu_{i} g(x)_{i}=0 \\\\\n",
    "\\mu_{i} \\geq 0 \\\\\n",
    "h_{i}(x)=0 \\\\\n",
    "g_{i}(x) \\leq 0 \\\\\n",
    "i=1,2, \\ldots, n\n",
    "\\end{array}\n",
    "$$ \n",
    "8.   凸优化就是这个优化问题的优化函数是凸函数，并且可行域是凸集\n",
    "\n"
   ]
  },
  {
   "cell_type": "markdown",
   "metadata": {
    "colab_type": "text",
    "id": "NlmvQgGRRROL"
   },
   "source": [
    "#GDBT"
   ]
  },
  {
   "cell_type": "code",
   "execution_count": null,
   "metadata": {},
   "outputs": [],
   "source": []
  }
 ],
 "metadata": {
  "colab": {
   "authorship_tag": "ABX9TyOZkfYQWc/NhvqezlVePTb/",
   "collapsed_sections": [],
   "include_colab_link": true,
   "name": "Classic MLmodel.ipynb",
   "provenance": []
  },
  "kernelspec": {
   "display_name": "Python 3",
   "language": "python",
   "name": "python3"
  },
  "language_info": {
   "codemirror_mode": {
    "name": "ipython",
    "version": 3
   },
   "file_extension": ".py",
   "mimetype": "text/x-python",
   "name": "python",
   "nbconvert_exporter": "python",
   "pygments_lexer": "ipython3",
   "version": "3.6.9"
  }
 },
 "nbformat": 4,
 "nbformat_minor": 1
}

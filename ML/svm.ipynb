{
  "nbformat": 4,
  "nbformat_minor": 0,
  "metadata": {
    "colab": {
      "name": "svm.ipynb",
      "provenance": [],
      "collapsed_sections": [],
      "authorship_tag": "ABX9TyMgGClZJT3C9zbNI2hFuzgr",
      "include_colab_link": true
    },
    "kernelspec": {
      "name": "python3",
      "display_name": "Python 3"
    },
    "language_info": {
      "name": "python"
    }
  },
  "cells": [
    {
      "cell_type": "markdown",
      "metadata": {
        "id": "view-in-github",
        "colab_type": "text"
      },
      "source": [
        "<a href=\"https://colab.research.google.com/github/starhou/notebooks/blob/master/ML/svm.ipynb\" target=\"_parent\"><img src=\"https://colab.research.google.com/assets/colab-badge.svg\" alt=\"Open In Colab\"/></a>"
      ]
    },
    {
      "cell_type": "code",
      "metadata": {
        "id": "oIVeORphctSR"
      },
      "source": [
        "%tensorflow_version 2.x"
      ],
      "execution_count": 1,
      "outputs": []
    },
    {
      "cell_type": "code",
      "metadata": {
        "id": "gbFrNOxmcwRy",
        "colab": {
          "base_uri": "https://localhost:8080/"
        },
        "outputId": "131ddcb3-363f-4508-f491-a30d7a22f11d"
      },
      "source": [
        "from google.colab import drive\n",
        "drive.mount('/gdrive')\n",
        "%cd /gdrive/My Drive/wcd"
      ],
      "execution_count": 10,
      "outputs": [
        {
          "output_type": "stream",
          "name": "stdout",
          "text": [
            "Mounted at /gdrive\n",
            "/gdrive/My Drive/wcd\n"
          ]
        }
      ]
    },
    {
      "cell_type": "code",
      "metadata": {
        "colab": {
          "base_uri": "https://localhost:8080/"
        },
        "id": "d1TTlaqYcwxI",
        "outputId": "7c31ca66-3d78-4bdf-b011-69fb4d981955"
      },
      "source": [
        "from __future__ import absolute_import, division, print_function, unicode_literals\n",
        "\n",
        "# TensorFlow and tf.keras\n",
        "import tensorflow as tf\n",
        "\n",
        "import os\n",
        "from tensorflow.keras import layers\n",
        "\n",
        "from tensorflow import keras\n",
        "\n",
        "# Helper libraries\n",
        "import imageio\n",
        "import numpy as np\n",
        "import time\n",
        "import matplotlib.pyplot as plt\n",
        "from IPython import display\n",
        "import PIL\n",
        "import glob\n",
        "from scipy import signal\n",
        "from sklearn.model_selection import train_test_split\n",
        "print(tf.__version__)"
      ],
      "execution_count": 177,
      "outputs": [
        {
          "output_type": "stream",
          "name": "stdout",
          "text": [
            "2.6.0\n"
          ]
        }
      ]
    },
    {
      "cell_type": "code",
      "metadata": {
        "id": "BsCW6CgFVOl0"
      },
      "source": [
        "Batch = 1000\n",
        "InputLength = 400"
      ],
      "execution_count": 178,
      "outputs": []
    },
    {
      "cell_type": "code",
      "metadata": {
        "id": "7kVQgkLSa8Xi"
      },
      "source": [
        "class Linear(keras.layers.Layer):\n",
        "    def __init__(self, units=1, input_dim=32):\n",
        "        super(Linear, self).__init__()\n",
        "        w_init = tf.random_normal_initializer()\n",
        "        self.w = tf.Variable(\n",
        "            initial_value=w_init(shape=(input_dim, units), dtype=\"float32\"),\n",
        "            trainable=True,\n",
        "        )\n",
        "        b_init = tf.zeros_initializer()\n",
        "        self.b = tf.Variable(\n",
        "            initial_value=b_init(shape=(units,), dtype=\"float32\"), trainable=True\n",
        "        )\n",
        "\n",
        "    def call(self, inputs):\n",
        "        return tf.matmul(inputs, self.w) + self.b"
      ],
      "execution_count": 179,
      "outputs": []
    },
    {
      "cell_type": "code",
      "metadata": {
        "id": "5inKAeMdHzpP"
      },
      "source": [
        "class SVM(tf.keras.Model):\n",
        "  def __init__(self, InputLength=InputLength, Batch=Batch):\n",
        "    super(SVM, self).__init__()\n",
        "    self.linear = Linear(1, InputLength)\n",
        "\n",
        "  def call(self, inputs):\n",
        "    x = self.linear(inputs)\n",
        "    return x\n",
        "  def hingeLoss(self, yr, yp):\n",
        "    hinge = tf.keras.losses.Hinge()\n",
        "    return tf.nn.l2_loss(self.linear.w) + hinge(yr, yp)\n",
        "svm = SVM()"
      ],
      "execution_count": 180,
      "outputs": []
    },
    {
      "cell_type": "code",
      "metadata": {
        "id": "FvcGSYZkGp5W"
      },
      "source": [
        "noise = tf.random.normal([10,InputLength])\n",
        "generateECG = svm(noise)"
      ],
      "execution_count": 35,
      "outputs": []
    },
    {
      "cell_type": "code",
      "metadata": {
        "id": "fIa0IbTtO27e"
      },
      "source": [
        "generateECG.numpy()"
      ],
      "execution_count": null,
      "outputs": []
    },
    {
      "cell_type": "code",
      "metadata": {
        "id": "hbe42zNNPCbG"
      },
      "source": [
        "svm_optimizer = tf.keras.optimizers.Adam(lr=0.00001, beta_1=0.9, beta_2=0.999, epsilon=None, decay=0.0, amsgrad=False)"
      ],
      "execution_count": null,
      "outputs": []
    },
    {
      "cell_type": "code",
      "metadata": {
        "id": "XTit6HdlPQmx"
      },
      "source": [
        "# 单步训练\n",
        "# 注意 `tf.function` 的使用\n",
        "# 该注解使函数被“编译”\n",
        "@tf.function\n",
        "def train_step(real_x, real_y):\n",
        "  for i in range(5):\n",
        "    with tf.GradientTape(persistent=True) as tape:\n",
        "      # 生成器 forward 转换 X -> Y。\n",
        "      # 生成器 backward 转换 Y -> X。\n",
        "      pridict_y = svm(real_x, training=True)\n",
        "      svm_loss = svm.hingeLoss(real_y, pridict_y)     \n",
        "    gradients_of_svm = tape.gradient(svm_loss, svm.trainable_variables)\n",
        "    svm_optimizer.apply_gradients(zip(gradients_of_svm, svm.trainable_variables))\n",
        "  return svm_loss, real_y, pridict_y"
      ],
      "execution_count": 181,
      "outputs": []
    },
    {
      "cell_type": "code",
      "metadata": {
        "id": "_d1vKS-2fh-j"
      },
      "source": [
        "def GetAccuracy(yr, yp):\n",
        "  yp = np.where(yp > 0.5, 1, -1)\n",
        "  correct_prediction = np.equal(yr, yp)\n",
        "  return np.mean(correct_prediction)"
      ],
      "execution_count": 182,
      "outputs": []
    },
    {
      "cell_type": "code",
      "metadata": {
        "id": "icNp9s38QK95"
      },
      "source": [
        "# 定义训练\n",
        "\n",
        "def train(dataset, epochs):\n",
        "  for epoch in range(epochs):\n",
        "    start = time.time()\n",
        "    num = 0\n",
        "    resNum = 0\n",
        "    yr, yp = [], []\n",
        "    svm_loss, accuracy = 0, 0\n",
        "    for data in dataset:\n",
        "      svm_loss, yr, yp = train_step(data[0],data[1])\n",
        "      accuracy = GetAccuracy(yr.numpy(), yp.numpy())\n",
        "      num = num+1\n",
        "      # resNum = resNum + svm_res\n",
        "      # accuracy = resNum / num\n",
        "      # if num%100==0:\n",
        "    print ('svm_loss {}, accuracy {} \\n'.format(svm_loss, accuracy))\n",
        "    print ('Time for epoch {} is {} sec'.format(epoch + 1, time.time()-start))"
      ],
      "execution_count": 183,
      "outputs": []
    },
    {
      "cell_type": "code",
      "metadata": {
        "id": "sS3S49c-fMIN"
      },
      "source": [
        "database = 'mitdb'\n",
        "ECG = np.load('data/new/'+database+'.npy')\n",
        "# feat_label = np.load('data/new/mitdb.npy')\n",
        "x = ECG[:,:-1]\n",
        "y = ECG[:,-1]\n",
        "x = signal.resample(x,400,axis=1)\n",
        "\n",
        "LAMBDA = 1\n",
        "seed = tf.random.normal([Batch, InputLength])"
      ],
      "execution_count": 186,
      "outputs": []
    },
    {
      "cell_type": "code",
      "metadata": {
        "id": "QFSNSLSahyw-"
      },
      "source": [
        "X_train, X_test, y_train, y_test = train_test_split(x, y, test_size=0.30, random_state=42)"
      ],
      "execution_count": 187,
      "outputs": []
    },
    {
      "cell_type": "code",
      "metadata": {
        "id": "LU-5MEfnRboB"
      },
      "source": [
        "train_dataset = tf.data.Dataset.from_tensor_slices((X_train,y_train)).shuffle(60000).batch(Batch)"
      ],
      "execution_count": 188,
      "outputs": []
    },
    {
      "cell_type": "code",
      "metadata": {
        "id": "ZH2viVgHd2Xp"
      },
      "source": [
        "train(train_dataset, 50)"
      ],
      "execution_count": null,
      "outputs": []
    },
    {
      "cell_type": "code",
      "metadata": {
        "colab": {
          "base_uri": "https://localhost:8080/"
        },
        "id": "CrKFEGcDexEo",
        "outputId": "ee81463a-d6ba-467e-c0cb-33946763a855"
      },
      "source": [
        "yprict = svm(X_test)\n",
        "GetAccuracy(y_test, yprict.numpy())"
      ],
      "execution_count": 191,
      "outputs": [
        {
          "output_type": "execute_result",
          "data": {
            "text/plain": [
              "0.97633203125"
            ]
          },
          "metadata": {},
          "execution_count": 191
        }
      ]
    },
    {
      "cell_type": "code",
      "metadata": {
        "id": "s6kvT6dWlR2M"
      },
      "source": [
        "svm.linear.w"
      ],
      "execution_count": null,
      "outputs": []
    },
    {
      "cell_type": "code",
      "metadata": {
        "colab": {
          "base_uri": "https://localhost:8080/"
        },
        "id": "7V6e1u7AljAz",
        "outputId": "a1ee9047-db84-4e04-9627-0e6a0021c5ac"
      },
      "source": [
        "svm.linear.b"
      ],
      "execution_count": 193,
      "outputs": [
        {
          "output_type": "execute_result",
          "data": {
            "text/plain": [
              "<tf.Variable 'Variable:0' shape=(1,) dtype=float32, numpy=array([-0.03091024], dtype=float32)>"
            ]
          },
          "metadata": {},
          "execution_count": 193
        }
      ]
    }
  ]
}
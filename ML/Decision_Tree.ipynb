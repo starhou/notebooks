{
  "nbformat": 4,
  "nbformat_minor": 0,
  "metadata": {
    "colab": {
      "name": "Decision Tree.ipynb",
      "provenance": [],
      "collapsed_sections": [],
      "authorship_tag": "ABX9TyMzlc0K4jPsyZexV/mixCfZ",
      "include_colab_link": true
    },
    "kernelspec": {
      "name": "python3",
      "display_name": "Python 3"
    }
  },
  "cells": [
    {
      "cell_type": "markdown",
      "metadata": {
        "id": "view-in-github",
        "colab_type": "text"
      },
      "source": [
        "<a href=\"https://colab.research.google.com/github/starhou/Algorithm/blob/master/ML/Decision_Tree.ipynb\" target=\"_parent\"><img src=\"https://colab.research.google.com/assets/colab-badge.svg\" alt=\"Open In Colab\"/></a>"
      ]
    },
    {
      "cell_type": "code",
      "metadata": {
        "id": "5HSTjGaCf6O7",
        "colab_type": "code",
        "colab": {}
      },
      "source": [
        "import numpy as np\n",
        "from sklearn import datasets"
      ],
      "execution_count": 0,
      "outputs": []
    },
    {
      "cell_type": "markdown",
      "metadata": {
        "id": "yZFVaJy-fU6J",
        "colab_type": "text"
      },
      "source": [
        "[参考](http://blog.lisp4fun.com/2018/03/03/decision-tree)\n",
        "### 信息增益\n",
        "\n",
        "> 信息熵：$H=\\sum_{i=1}^{n} H\\left(x_{i}\\right)=-\\sum_{i=1}^{n} P\\left(x_{i}\\right) \\log \\left(P\\left(x_{i}\\right)\\right)$\n",
        "\n",
        "\n",
        "> 条件熵：$H(X \\| A)=\\sum_{i}^{n} p_{i} H\\left(X \\| A=a_{i}\\right)$\n",
        "\n",
        "\n",
        "> 信息增益：$G = H - H(X \\| A)$\n",
        "*   对特征的取值进行排序（feature 和 target 需要同步排序）\n",
        "*   将 target 有变动的地方作为可能的划分点（比例，target取值从0变成1）\n",
        "*   分界点定义为划分点的对应的两个特征取值的平均值\n",
        "*   计算所有划分点的信息增益，选取最大的那个信息增益对应的值作为最终选择的分界点\n",
        "*   计算得到所有特征中信息增益最小的特征作为本次所用特征\n",
        "\n",
        "\n",
        "\n",
        "\n",
        "\n",
        "\n",
        "\n",
        "\n",
        "\n",
        "\n"
      ]
    },
    {
      "cell_type": "code",
      "metadata": {
        "id": "HEPIDgFoe037",
        "colab_type": "code",
        "colab": {}
      },
      "source": [
        "def calcEntropy(values):\n",
        "    ''' 根据给定列表中的值计算其Shanno Entropy\n",
        "    '''\n",
        "    uniq_vals = np.unique(values)\n",
        "    P_x = [np.sum(values == val)/values.shape[0] for val in uniq_vals]\n",
        "    entropy = 0-np.sum(P_x*np.log2(P_x))\n",
        "    return entropy"
      ],
      "execution_count": 0,
      "outputs": []
    },
    {
      "cell_type": "code",
      "metadata": {
        "id": "o7CG0VX3AU0D",
        "colab_type": "code",
        "colab": {}
      },
      "source": [
        "def calcConditionEntropy(feature, condition, target):\n",
        "    true_condition = condition(feature)\n",
        "    false_condition = true_condition == False\n",
        "    target_true = target[true_condition]\n",
        "    target_false = target[false_condition]\n",
        "    # 每种属性类别的数量除以总数就计算出其概率\n",
        "    p_true = target_true.size / target.size\n",
        "    p_false = 1 - p_true\n",
        "    # 每种属性类别的概率乘以该类别下的信息熵\n",
        "    entropy = p_true * calcEntropy(target_true) + p_false * calcEntropy(target_false)\n",
        "    return entropy"
      ],
      "execution_count": 0,
      "outputs": []
    },
    {
      "cell_type": "code",
      "metadata": {
        "id": "eLMEgEzenfzo",
        "colab_type": "code",
        "colab": {}
      },
      "source": [
        "def generate_feature_points(feature, target):\n",
        "    \"\"\"\n",
        "    生成特征的所有分界点: 先对特征进行排序，然后将 target 有变动的地方作为分界点\n",
        "    :param feature: 一维数组，一个特征的样本数据\n",
        "    :param target: 一维数组，数字或者字符串的分类标签\n",
        "    :return: 包含所有分界点的一维数组\n",
        "    \"\"\"\n",
        "    argsort = feature.argsort()\n",
        "    f1 = feature[argsort]\n",
        "    t1 = target[argsort]\n",
        "\n",
        "    last_value = t1[0]\n",
        "    split_value = []\n",
        "\n",
        "    # 找出所有分裂点\n",
        "    for i in range(t1.size):\n",
        "        if last_value != t1[i]:\n",
        "            split_value.append((f1[i] + f1[i - 1]) / 2)\n",
        "            last_value = t1[i]\n",
        "\n",
        "    return np.array(split_value)"
      ],
      "execution_count": 0,
      "outputs": []
    },
    {
      "cell_type": "code",
      "metadata": {
        "id": "0DPf0xNSAPkr",
        "colab_type": "code",
        "colab": {}
      },
      "source": [
        "def calc_feature_entropy(feature, target):\n",
        "    \"\"\"\n",
        "    计算一个特征的所有分界点的条件熵，返回最小的那个条件熵（条件熵越小，信息增益越大）\n",
        "    :param feature: 一维数组，一个特征的样本数据\n",
        "    :param target: 一维数组，数字或者字符串的分类标签\n",
        "    :return: 分界点和条件熵\n",
        "    \"\"\"\n",
        "    min_entropy = float('inf')\n",
        "    min_point = 0\n",
        "    points = generate_feature_points(feature, target)\n",
        "    for p in points:\n",
        "        entropy = calcConditionEntropy(feature, lambda f: f < p, target)\n",
        "        if entropy < min_entropy:\n",
        "            min_entropy = entropy\n",
        "            min_point = p\n",
        "\n",
        "    '没有分界点说明只有一类数据标签，熵为0'\n",
        "    if points.size == 0:\n",
        "        min_entropy = 0\n",
        "\n",
        "    return min_point, min_entropy"
      ],
      "execution_count": 0,
      "outputs": []
    },
    {
      "cell_type": "code",
      "metadata": {
        "id": "Hp9T27JXEOD-",
        "colab_type": "code",
        "colab": {}
      },
      "source": [
        "def select_feature(features, target):\n",
        "    \"\"\"\n",
        "    从所有特征中选择出条件熵最小的特征（即最大增益）\n",
        "    :param features: 二维数据，包含所有特征的样本数据\n",
        "    :param target: 一维数组，数字或者字符串的分类标签\n",
        "    :return: 特征索引，条件熵，特征分界点\n",
        "    \"\"\"\n",
        "    min_entropy = float('inf')\n",
        "    min_point = 0\n",
        "    num = features.shape[1]\n",
        "    index = 0\n",
        "    for i in range(num):\n",
        "        point, entropy = calc_feature_entropy(features[:, i], target)\n",
        "        if entropy <= min_entropy:\n",
        "            index = i\n",
        "            min_point = point\n",
        "            min_entropy = entropy\n",
        "\n",
        "    return index, min_point, min_entropy"
      ],
      "execution_count": 0,
      "outputs": []
    },
    {
      "cell_type": "code",
      "metadata": {
        "id": "SkwR_PUPIlkt",
        "colab_type": "code",
        "colab": {}
      },
      "source": [
        "class TreeNode:\n",
        "    idn = 0\n",
        "    feature_index = ''\n",
        "    feature_point = 0\n",
        "    feature_entropy = 0\n",
        "    target_label = ''\n",
        "    true_node = None\n",
        "    false_node = None\n",
        "\n",
        "    @staticmethod\n",
        "    def decision(feature, point):\n",
        "        return feature < point"
      ],
      "execution_count": 0,
      "outputs": []
    },
    {
      "cell_type": "code",
      "metadata": {
        "id": "rNdAiocKJU1_",
        "colab_type": "code",
        "colab": {}
      },
      "source": [
        "def build_tree(features, target, idn):\n",
        "    \"\"\"\n",
        "    递归构建决策树\n",
        "    :param features: 二维数据，包含所有特征的样本数据\n",
        "    :param target: 一维数组，数字或者字符串的分类标签\n",
        "    :param idn: 决策树节点 id，通过 id 观察决策树计算过程\n",
        "    :return: 决策树根节点\n",
        "    \"\"\"\n",
        "    node = TreeNode()\n",
        "\n",
        "    '选择条件熵最小的特征'\n",
        "    index, point, entropy = select_feature(features, target)\n",
        "    node.idn = idn\n",
        "    node.feature_index = index\n",
        "    node.feature_point = point\n",
        "    node.feature_entropy = entropy\n",
        "    '取出现次数最多的标签作为该特征节点的输出'\n",
        "    print(target)\n",
        "    node.target_label = target[np.argmax(np.bincount(target))]\n",
        "\n",
        "    print('build tree node id %d, index %d, point %f, entropy %f, label %s ' %\n",
        "          (idn, index, point, entropy, node.target_label))\n",
        "\n",
        "    '熵小于 0.1 时则结束创建子节点，防止过拟合'\n",
        "    if entropy < 0.1:\n",
        "        print('too low entropy : ', entropy)\n",
        "        return node\n",
        "\n",
        "    f_copy = features.copy()\n",
        "    t_copy = target.copy()\n",
        "    f = f_copy[:, index]\n",
        "    selector = node.decision(f, point)\n",
        "\n",
        "    '创建左右两个子节点'\n",
        "    idn = idn + 1\n",
        "    node.true_node = build_tree(f_copy[selector, :], t_copy[selector], idn)\n",
        "    idn = node.true_node.idn + 1\n",
        "    node.false_node = build_tree(f_copy[selector == False], t_copy[selector == False], idn)\n",
        "    return node"
      ],
      "execution_count": 0,
      "outputs": []
    },
    {
      "cell_type": "code",
      "metadata": {
        "id": "wg_mETa0f08A",
        "colab_type": "code",
        "colab": {}
      },
      "source": [
        "# 4特征，2分类\n",
        "X, y = datasets.make_classification(n_samples=500, n_features=10, n_informative=2, n_redundant=2)"
      ],
      "execution_count": 0,
      "outputs": []
    },
    {
      "cell_type": "code",
      "metadata": {
        "id": "N6N_EEOVJgzi",
        "colab_type": "code",
        "colab": {}
      },
      "source": [
        "build_tree(X, y, 1)"
      ],
      "execution_count": 0,
      "outputs": []
    },
    {
      "cell_type": "markdown",
      "metadata": {
        "id": "AeFVyBH3N_4K",
        "colab_type": "text"
      },
      "source": [
        "\n",
        "信息增益率 Gain Ratio\n",
        "\n",
        "$(D, a)=\\frac{\\operatorname{Gain}(D, a)}{I V(a)}$ \\\n",
        "$I V(a)=-\\sum_{i}^{n} \\frac{\\left\\|D^{i}\\right\\|}{\\|D\\|} \\log _{2} \\frac{\\left\\|D^{i}\\right\\|}{\\|D\\|}$\n",
        "\n",
        "基尼指数\n",
        "\n",
        "$\\operatorname{Gini}(D)=1-\\sum_{i}^{n} p_{i}^{2}$"
      ]
    }
  ]
}
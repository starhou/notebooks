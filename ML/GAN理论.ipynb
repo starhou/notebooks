{
  "nbformat": 4,
  "nbformat_minor": 0,
  "metadata": {
    "colab": {
      "name": "GAN理论",
      "provenance": [],
      "collapsed_sections": [],
      "authorship_tag": "ABX9TyNOH7gCkemcYPMdkV8/1IPS",
      "include_colab_link": true
    },
    "kernelspec": {
      "name": "python3",
      "display_name": "Python 3"
    }
  },
  "cells": [
    {
      "cell_type": "markdown",
      "metadata": {
        "id": "view-in-github",
        "colab_type": "text"
      },
      "source": [
        "<a href=\"https://colab.research.google.com/github/starhou/Algorithm/blob/master/ML/GAN%E7%90%86%E8%AE%BA.ipynb\" target=\"_parent\"><img src=\"https://colab.research.google.com/assets/colab-badge.svg\" alt=\"Open In Colab\"/></a>"
      ]
    },
    {
      "cell_type": "markdown",
      "metadata": {
        "id": "mk-PC4elGD6I",
        "colab_type": "text"
      },
      "source": [
        "#对抗生成网络\n",
        "\n",
        " [ref.GAN](http://papers.nips.cc/paper/5423-generative-adversarial-nets.pdf)\n",
        " [ref.WGAN](https://arxiv.xilesou.top/pdf/1701.07875.pdf)\n",
        " [ref.郑华滨知乎博客](https://zhuanlan.zhihu.com/p/25071913)\n",
        " [ref.WGAN-GP](http://papers.nips.cc/paper/7159-improved-training-of-wasserstein-gans.pdf)\n",
        "\n",
        "\n"
      ]
    },
    {
      "cell_type": "markdown",
      "metadata": {
        "id": "eskuSQSFYP_h",
        "colab_type": "text"
      },
      "source": [
        "GAN的目标函数是\n",
        "\n",
        "$$\\min _{G} \\max _{D} V(D, G)=\\mathbb{E}_{\\boldsymbol{x} \\sim p_{\\text {data }}(\\boldsymbol{x})}[\\log D(\\boldsymbol{x})]+\\mathbb{E}_{\\boldsymbol{z} \\sim p_{\\boldsymbol{z}}(\\boldsymbol{z})}[\\log (1-D(G(\\boldsymbol{z})))].....(1)$$\n",
        "\n",
        "分析目标函数，其中对判别器$D$，其目标函数是：$E_{r}[logD(x)]+E_{g}[log(1-D(G(z))]$，对生成器G，其目标函数是：$E_{g}[log(1-D(G(z))]$。\n",
        "\n",
        "对判别器，一个样本的损失函数是\n",
        "$$\n",
        "-P_{r}(x) \\log D(x)-P_{g}(x) \\log [1-D(x)].....(2)\n",
        "$$\n",
        "\n",
        "首先最大化D(x)，对D(x)求导，得到$$D^{*}(x)=\\frac{P_{r}(x)}{P_{r}(x)+P_{g}(x)}.....(3)$$\n",
        "\n",
        "其含义是，最优判别器$D^{*}(x)$可以准确给出输入样本中真实样本所占的比例。把(3)带入判别器的损失函数(2)，得到\n",
        "\n",
        "$$\\mathbb{E}_{x \\sim P_{r}} \\log \\frac{P_{r}(x)}{\\frac{1}{2}\\left[P_{r}(x)+P_{g}(x)\\right]}+\\mathbb{E}_{x \\sim P_{g}} \\log \\frac{P_{g}(x)}{\\frac{1}{2}\\left[P_{r}(x)+P_{g}(x)\\right]}-2 \\log 2.....(4)(a)$$\n",
        "\n",
        "即为2倍JS散度，\n",
        "$$\n",
        "2 J S\\left(P_{r} \\| P_{g}\\right)-2 \\log 2.....(4)(b)\n",
        "$$\n",
        "\n",
        "原始GAN的损失函数是JS散度，对JS散度，当两个分布是不相交时，JS散度恒为为$log2$，如图1，对毫不重合的两个分布，JS散度为log2（[证明](https://blog.csdn.net/Invokar/article/details/88917214)）\n",
        "\n",
        "\n",
        "\n",
        "The Total Variation (TV) distance\n",
        "$$\\delta\\left(\\mathbb{P}_{r}, \\mathbb{P}_{g}\\right)=\\sup _{A \\in \\Sigma}\\left|\\mathbb{P}_{r}(A)-\\mathbb{P}_{g}(A)\\right|$$\n",
        "\n",
        "The Kullback-Leibler (KL) divergence\n",
        "$$K L\\left(\\mathbb{P}_{r} \\| \\mathbb{P}_{g}\\right)=\\int \\log \\left(\\frac{P_{r}(x)}{P_{g}(x)}\\right) P_{r}(x) d \\mu(x)$$\n",
        "\n",
        "The Jensen-Shannon (JS) divergence\n",
        "$$J S\\left(\\mathbb{P}_{r}, \\mathbb{P}_{g}\\right)=K L\\left(\\mathbb{P}_{r} \\| \\mathbb{P}_{m}\\right)+K L\\left(\\mathbb{P}_{g} \\| \\mathbb{P}_{m}\\right)$$\n",
        "\n",
        "其中$\\mathbb{P}_{m} = \\left(\\mathbb{P}_{r}+\\mathbb{P}_{g}\\right) / 2$\n",
        "\n",
        "The Earth-Mover (EM) distance or Wasserstein-1\n",
        "$$\n",
        "W\\left(\\mathbb{P}_{r}, \\mathbb{P}_{g}\\right)=\\inf _{\\gamma \\in \\Pi\\left(\\mathbb{P}_{r}, \\mathbb{P}_{g}\\right)} \\mathbb{E}_{(x, y) \\sim \\gamma}[\\|x-y\\|]\n",
        "$$\n",
        "\n",
        "对图1的分布，三种不同距离分别为，前两种距离不连续\n",
        "\n",
        "$\\cdot W\\left(\\mathbb{P}_{0}, \\mathbb{P}_{\\theta}\\right)=|\\theta|$\n",
        "\n",
        "$\\cdot J S\\left(\\mathbb{P}_{0}, \\mathbb{P}_{\\theta}\\right)=\\left\\{\\begin{array}{ll}\\log 2 & \\text { if } \\theta \\neq 0 \\\\ 0 & \\text { if } \\theta=0\\end{array}\\right.$\n",
        "\n",
        "$\\cdot K L\\left(\\mathbb{P}_{\\theta} \\| \\mathbb{P}_{0}\\right)=K L\\left(\\mathbb{P}_{0} \\| \\mathbb{P}_{\\theta}\\right)=\\left\\{\\begin{array}{ll}+\\infty & \\text { if } \\theta \\neq 0 \\\\ 0 & \\text { if } \\theta=0\\end{array}\\right.$\n",
        "\n",
        "由于推图机距离是计算下确界$inf$，很难计算，根据Kantorovich-Rubinstein duality，具体计算，推土机距离满足下式\n",
        "$$\n",
        "W\\left(\\mathbb{P}_{r}, \\mathbb{P}_{\\theta}\\right)=\\sup _{\\|f\\|_{L} \\leq 1} \\mathbb{E}_{x \\sim \\mathbb{P}_{r}}[f(x)]-\\mathbb{E}_{x \\sim \\mathbb{P}_{\\theta}}[f(x)]\n",
        "$$\n",
        "WGAN算法：\n",
        "![](https://cdn.mathpix.com/snip/images/rMY6eF1AncGDOtt-U7X71q1H4yhqApnGsgQPk1OWS5M.original.fullsize.png)\n",
        "\n",
        "WGAN算法有一个混合真实样本和生成样本的步骤，判别器损失和原始GAN相同，生成器损失变为推土机距离。\n",
        "\n",
        "对WGAN-GP, WGAN对权值裁剪，WGAN-GP对梯度进行裁剪。原文中提到了一些梯度裁剪的好处如下\n",
        "\n",
        "```\n",
        "Gradient norms of deep WGAN critics during training on \n",
        "toy datasets either explode or vanish when using weight \n",
        "clipping, but not when using a gradient penalty. (right) \n",
        "Weight clipping (top) pushes weights towards two values \n",
        "(the extremes of the clipping range), unlike gradient \n",
        "penalty (bottom).\n",
        "```\n",
        "WGAN-GP的算法如下：\n",
        "![](https://cdn.mathpix.com/snip/images/R1aey4DNXGztq4x9Fv-yGEuprtZ6ZCcNgR48660NR9s.original.fullsize.png)\n",
        "\n",
        "\n"
      ]
    },
    {
      "cell_type": "code",
      "metadata": {
        "id": "WIKiFTmNWZGl",
        "colab_type": "code",
        "outputId": "3735276b-33a4-4171-d8c2-a3823612cee6",
        "colab": {
          "base_uri": "https://localhost:8080/",
          "height": 299
        }
      },
      "source": [
        "import numpy as np\n",
        "import matplotlib.pyplot as plt\n",
        "from scipy import stats\n",
        "mu = 0\n",
        "sd = 1\n",
        "t1 = np.linspace(-1,1,1000)\n",
        "t2 = np.linspace(1,3,1000)\n",
        "y1 = stats.norm(mu, sd).pdf(t)\n",
        "y2 = stats.norm(mu, sd).pdf(t)\n",
        "\n",
        "plt.figure(1)\n",
        "plt.plot(t1,y1)\n",
        "plt.plot(t2,y2)\n",
        "plt.title(\"Figure 1\")"
      ],
      "execution_count": 9,
      "outputs": [
        {
          "output_type": "execute_result",
          "data": {
            "text/plain": [
              "Text(0.5, 1.0, 'Figure 1')"
            ]
          },
          "metadata": {
            "tags": []
          },
          "execution_count": 9
        },
        {
          "output_type": "display_data",
          "data": {
            "text/plain": [
              "<Figure size 432x288 with 1 Axes>"
            ],
            "image/png": "[encoded data removed]"
          },
          "metadata": {
            "tags": [],
            "needs_background": "light"
          }
        }
      ]
    }
  ]
}
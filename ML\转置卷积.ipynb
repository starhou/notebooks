{
  "nbformat": 4,
  "nbformat_minor": 0,
  "metadata": {
    "colab": {
      "name": "转置卷积.ipynb",
      "provenance": [],
      "authorship_tag": "ABX9TyPWG4XkVpjUCNZTZMI/ShFA",
      "include_colab_link": true
    },
    "kernelspec": {
      "name": "python3",
      "display_name": "Python 3"
    },
    "language_info": {
      "name": "python"
    }
  },
  "cells": [
    {
      "cell_type": "markdown",
      "metadata": {
        "id": "view-in-github",
        "colab_type": "text"
      },
      "source": [
        "<a href=\"https://colab.research.google.com/github/starhou/notebooks/blob/master/ML%5C%E8%BD%AC%E7%BD%AE%E5%8D%B7%E7%A7%AF.ipynb\" target=\"_parent\"><img src=\"https://colab.research.google.com/assets/colab-badge.svg\" alt=\"Open In Colab\"/></a>"
      ]
    },
    {
      "cell_type": "markdown",
      "metadata": {
        "id": "IgixeeRnwUWC"
      },
      "source": [
        "## 转置卷积\n",
        "[参考文章](https://www.zhihu.com/question/43609045/answer/550163970)"
      ]
    },
    {
      "cell_type": "markdown",
      "metadata": {
        "id": "eBs1oBNg42fE"
      },
      "source": [
        "### 卷积的输出\n",
        "$$\n",
        "o=\\left\\lfloor\\frac{i+2 p-k}{s}\\right\\rfloor+1\n",
        "$$"
      ]
    },
    {
      "cell_type": "code",
      "metadata": {
        "id": "qpxwyctle83i"
      },
      "source": [
        "import tensorflow as tf\n",
        "import numpy as np\n"
      ],
      "execution_count": null,
      "outputs": []
    },
    {
      "cell_type": "code",
      "metadata": {
        "id": "ZIQHMH6h9vXC"
      },
      "source": [
        "input = np.random.rand(100, 3, 3, 1)"
      ],
      "execution_count": null,
      "outputs": []
    },
    {
      "cell_type": "markdown",
      "metadata": {
        "id": "1T-ksXjh9dOT"
      },
      "source": [
        "### 反卷积的输出\n",
        "\n",
        "[参考文章](https://zhuanlan.zhihu.com/p/57348649)\n",
        "\n",
        "$$\n",
        "o=s(i-1)+2 p-k+2\n",
        "$$\n",
        "\n",
        "计算步骤\n",
        "\n",
        "  1. 反卷积中，stride可理解为为在输入的相邻元素之间添加 $s-1$ 个零元素。\n",
        "\n",
        "  ![pic](https://pic3.zhimg.com/80/v2-ed11b2385f3d225969c09a7b62a1674a_720w.jpg)\n",
        "$$\n",
        "i_{s}=i+(s-1)(i-1)\n",
        "$$\n",
        "\n",
        "$$\n",
        "o=\\left[\\frac{i_{s}+2 p-k}{s}+1\\right]\n",
        "$$\n",
        "\n",
        "$$\n",
        "o=[s(i-1)+2 p-k+2]\n",
        "$$\n",
        "\n",
        "$$\n",
        "o=s(i-1)+2 p-k+2\n",
        "$$\n"
      ]
    }
  ]
}
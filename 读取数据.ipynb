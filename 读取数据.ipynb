{
  "nbformat": 4,
  "nbformat_minor": 0,
  "metadata": {
    "colab": {
      "name": "读取数据.ipynb",
      "provenance": [],
      "collapsed_sections": [],
      "authorship_tag": "ABX9TyPzf8QllMUoBzp4j5mGdHKe",
      "include_colab_link": true
    },
    "kernelspec": {
      "name": "python3",
      "display_name": "Python 3"
    }
  },
  "cells": [
    {
      "cell_type": "markdown",
      "metadata": {
        "id": "view-in-github",
        "colab_type": "text"
      },
      "source": [
        "<a href=\"https://colab.research.google.com/github/starhou/Algorithm/blob/master/%E8%AF%BB%E5%8F%96%E6%95%B0%E6%8D%AE.ipynb\" target=\"_parent\"><img src=\"https://colab.research.google.com/assets/colab-badge.svg\" alt=\"Open In Colab\"/></a>"
      ]
    },
    {
      "cell_type": "markdown",
      "metadata": {
        "id": "Ddgw9BzjFpOV",
        "colab_type": "text"
      },
      "source": [
        "2020.3.12\n",
        "\n",
        ">由于一般在LeedCode上刷题，从来没有考虑过数据的读入和读出。第一次参加机考，发现自己连最简单的读取数据都不会。真是惭愧！这是我当天整理的一些读取键盘输入的内容，希望自己汲取教训，踏实学习。\n",
        "\n",
        "\n",
        "---\n",
        "主要内容参考\n",
        "\n",
        "[Python读取多行键盘输入](https://blog.csdn.net/qq_26884501/article/details/89194211?depth_1-utm_source=distribute.pc_relevant.none-task&utm_source=distribute.pc_relevant.none-task)\n",
        "\n",
        "文章写的很好，感谢~\n"
      ]
    },
    {
      "cell_type": "markdown",
      "metadata": {
        "id": "KaT8G2MUIPz3",
        "colab_type": "text"
      },
      "source": [
        "最简单的输入是利用 input() 函数, 默认会把输入数据原封不动的保存为一个字符串，包括空格，像这样"
      ]
    },
    {
      "cell_type": "code",
      "metadata": {
        "id": "AlzTWSblI8xL",
        "colab_type": "code",
        "colab": {
          "base_uri": "https://localhost:8080/",
          "height": 71
        },
        "outputId": "a60289bc-e4b3-4c9a-9911-f870885630f4"
      },
      "source": [
        "a = input('input: ')\n",
        "print('output:',a)\n",
        "print('data type: ',type(a))"
      ],
      "execution_count": 9,
      "outputs": [
        {
          "output_type": "stream",
          "text": [
            "input: 1 2 3 a\n",
            "output: 1 2 3 a\n",
            "data type:  <class 'str'>\n"
          ],
          "name": "stdout"
        }
      ]
    },
    {
      "cell_type": "markdown",
      "metadata": {
        "id": "ucCvTV1ILGNP",
        "colab_type": "text"
      },
      "source": [
        "利用split()函数可以将其分隔，默认按照空格分割，还可以只指定分割次数，分割的数据会被放到一个列表中"
      ]
    },
    {
      "cell_type": "code",
      "metadata": {
        "id": "Cp07m12Ncv5J",
        "colab_type": "code",
        "colab": {
          "base_uri": "https://localhost:8080/",
          "height": 71
        },
        "outputId": "b3d3ac7b-3821-41b1-9ec4-26144a79ae11"
      },
      "source": [
        "a = input('input: ').split(' ', 3)\n",
        "print('output:',a)\n",
        "print('data type: ',type(a))"
      ],
      "execution_count": 15,
      "outputs": [
        {
          "output_type": "stream",
          "text": [
            "input: 1 2 3 a b c\n",
            "output: ['1', '2', '3', 'a b c']\n",
            "data type:  <class 'list'>\n"
          ],
          "name": "stdout"
        }
      ]
    },
    {
      "cell_type": "markdown",
      "metadata": {
        "id": "WiCjDzORQBLT",
        "colab_type": "text"
      },
      "source": [
        "利用map函数可以方便的将进行数据类型的转换"
      ]
    },
    {
      "cell_type": "code",
      "metadata": {
        "id": "2XaTWDt9QK8L",
        "colab_type": "code",
        "colab": {
          "base_uri": "https://localhost:8080/",
          "height": 71
        },
        "outputId": "ca2f4847-9dd4-4a73-a9ea-e2b624a88936"
      },
      "source": [
        "a = list(map(int,input('input: ').strip().split(\" \")))\n",
        "print('output:',a)\n",
        "print('data type: ',type(a))"
      ],
      "execution_count": 30,
      "outputs": [
        {
          "output_type": "stream",
          "text": [
            "input: 1 2 3 4 5 6\n",
            "output: [1, 2, 3, 4, 5, 6]\n",
            "data type:  <class 'list'>\n"
          ],
          "name": "stdout"
        }
      ]
    },
    {
      "cell_type": "markdown",
      "metadata": {
        "id": "OvnDs7cWUHsh",
        "colab_type": "text"
      },
      "source": [
        "利用filter函数可以删除一些元素"
      ]
    },
    {
      "cell_type": "code",
      "metadata": {
        "id": "watTBh_ASZk0",
        "colab_type": "code",
        "colab": {
          "base_uri": "https://localhost:8080/",
          "height": 71
        },
        "outputId": "d68579c5-84ef-42b4-d079-56e39b4678cb"
      },
      "source": [
        "a = list(map(int,input('input: ').strip().split(\" \")))\n",
        "a = list(filter(lambda i:i>2,a))\n",
        "print('output:',a)\n",
        "print('data type: ',type(a))"
      ],
      "execution_count": 37,
      "outputs": [
        {
          "output_type": "stream",
          "text": [
            "input: 1 2 3 4 5 6 7\n",
            "output: [3, 4, 5, 6, 7]\n",
            "data type:  <class 'list'>\n"
          ],
          "name": "stdout"
        }
      ]
    },
    {
      "cell_type": "markdown",
      "metadata": {
        "id": "7hrYrdN0LDYt",
        "colab_type": "text"
      },
      "source": [
        "另外比较有用的是\n",
        "\n",
        "s.strip(rm) 删除s字符串中**开头、结尾**处，位于 rm删除序列的字符\n",
        "\n",
        "默认会删除'\\n', '\\r',  '\\t',  ' '等看不见的字符。"
      ]
    },
    {
      "cell_type": "code",
      "metadata": {
        "id": "SY2s2x9cFexa",
        "colab_type": "code",
        "colab": {
          "base_uri": "https://localhost:8080/",
          "height": 71
        },
        "outputId": "443e12d5-d598-4dd7-d6a9-b112f87c2b17"
      },
      "source": [
        "a = input('input: ').strip()\n",
        "print('output:',a)\n",
        "print('data type: ',type(a))"
      ],
      "execution_count": 19,
      "outputs": [
        {
          "output_type": "stream",
          "text": [
            "input:  1 2 3 a b c\n",
            "output: 1 2 3 a b c\n",
            "data type:  <class 'str'>\n"
          ],
          "name": "stdout"
        }
      ]
    },
    {
      "cell_type": "markdown",
      "metadata": {
        "id": "XAK7QeEdO7hz",
        "colab_type": "text"
      },
      "source": [
        "更常用的是多行的输入，像下面一样"
      ]
    },
    {
      "cell_type": "code",
      "metadata": {
        "id": "NZWVBcsGNEdY",
        "colab_type": "code",
        "colab": {
          "base_uri": "https://localhost:8080/",
          "height": 125
        },
        "outputId": "c050e017-7769-4ed6-9d0a-a3ba32f75f42"
      },
      "source": [
        "res = [] \n",
        "inputLine = input('input: ')  #以字符串的形式读入一行\n",
        "#如果不为空字符串作后续读入\n",
        "while inputLine != '': \n",
        "    listLine = inputLine.strip().split()  #以空格划分就是序列的形式了\n",
        "    res.append(listLine)\n",
        "    inputLine = input('input: ')\n",
        "print('output:',res)\n",
        "print('data type: ',type(a))"
      ],
      "execution_count": 26,
      "outputs": [
        {
          "output_type": "stream",
          "text": [
            "input: 1 2 3\n",
            "input: a b c\n",
            "input: 7 8 9\n",
            "input: \n",
            "output: [['1', '2', '3'], ['a', 'b', 'c'], ['7', '8', '9']]\n",
            "data type:  <class 'str'>\n"
          ],
          "name": "stdout"
        }
      ]
    },
    {
      "cell_type": "code",
      "metadata": {
        "id": "SpUk23WhPie5",
        "colab_type": "code",
        "colab": {
          "base_uri": "https://localhost:8080/",
          "height": 71
        },
        "outputId": "d3557ce8-24d7-4554-a2f5-99cfc89e6b67"
      },
      "source": [
        "import numpy as np\n",
        "np.array(res)"
      ],
      "execution_count": 27,
      "outputs": [
        {
          "output_type": "execute_result",
          "data": {
            "text/plain": [
              "array([['1', '2', '3'],\n",
              "       ['a', 'b', 'c'],\n",
              "       ['7', '8', '9']], dtype='<U1')"
            ]
          },
          "metadata": {
            "tags": []
          },
          "execution_count": 27
        }
      ]
    }
  ]
}